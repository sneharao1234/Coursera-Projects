{
 "cells": [
  {
   "cell_type": "markdown",
   "id": "fc2e9112",
   "metadata": {},
   "source": [
    "# Peer-graded Assignment: Build a Regression Model in Keras"
   ]
  },
  {
   "cell_type": "markdown",
   "id": "44c11c22",
   "metadata": {},
   "source": [
    "# Part A"
   ]
  },
  {
   "cell_type": "markdown",
   "id": "16da6279",
   "metadata": {},
   "source": [
    "#### Build a baseline model (5 marks). \n",
    "#### A0. Use the Keras library to build a neural network with the following: One hidden layer of 10 nodes, and a ReLU activation function. Use the adam optimizer and the mean squared error as the loss function."
   ]
  },
  {
   "cell_type": "code",
   "execution_count": 1,
   "id": "3665c04c",
   "metadata": {},
   "outputs": [],
   "source": [
    "# import libraries\n",
    "\n",
    "import numpy as np\n",
    "import pandas as pd\n",
    "import matplotlib.pyplot as plt\n",
    "\n",
    "from keras.models import Sequential\n",
    "from keras.layers import Input, Dense\n",
    "\n",
    "from sklearn.model_selection import train_test_split \n",
    "from sklearn.metrics import mean_squared_error"
   ]
  },
  {
   "cell_type": "code",
   "execution_count": 2,
   "id": "1dd5f301",
   "metadata": {},
   "outputs": [],
   "source": [
    "# Building the model\n",
    "\n",
    "def regression_model():\n",
    "    model = Sequential()\n",
    "    \n",
    "    model.add(Input(shape=(num_inputs,)))     # input layer\n",
    "    model.add(Dense(10, activation='relu'))   # hidden layer\n",
    "    model.add(Dense(1))                       # output layer\n",
    "    \n",
    "    model.compile(optimizer='adam', loss='mean_squared_error')\n",
    "    return model\n"
   ]
  },
  {
   "cell_type": "markdown",
   "id": "2356c221",
   "metadata": {},
   "source": [
    "#### Import concrete data"
   ]
  },
  {
   "cell_type": "code",
   "execution_count": 3,
   "id": "2a1c5365",
   "metadata": {},
   "outputs": [
    {
     "data": {
      "text/html": [
       "<div>\n",
       "<style scoped>\n",
       "    .dataframe tbody tr th:only-of-type {\n",
       "        vertical-align: middle;\n",
       "    }\n",
       "\n",
       "    .dataframe tbody tr th {\n",
       "        vertical-align: top;\n",
       "    }\n",
       "\n",
       "    .dataframe thead th {\n",
       "        text-align: right;\n",
       "    }\n",
       "</style>\n",
       "<table border=\"1\" class=\"dataframe\">\n",
       "  <thead>\n",
       "    <tr style=\"text-align: right;\">\n",
       "      <th></th>\n",
       "      <th>Cement</th>\n",
       "      <th>Blast Furnace Slag</th>\n",
       "      <th>Fly Ash</th>\n",
       "      <th>Water</th>\n",
       "      <th>Superplasticizer</th>\n",
       "      <th>Coarse Aggregate</th>\n",
       "      <th>Fine Aggregate</th>\n",
       "      <th>Age</th>\n",
       "      <th>Strength</th>\n",
       "    </tr>\n",
       "  </thead>\n",
       "  <tbody>\n",
       "    <tr>\n",
       "      <th>0</th>\n",
       "      <td>540.0</td>\n",
       "      <td>0.0</td>\n",
       "      <td>0.0</td>\n",
       "      <td>162.0</td>\n",
       "      <td>2.5</td>\n",
       "      <td>1040.0</td>\n",
       "      <td>676.0</td>\n",
       "      <td>28</td>\n",
       "      <td>79.99</td>\n",
       "    </tr>\n",
       "    <tr>\n",
       "      <th>1</th>\n",
       "      <td>540.0</td>\n",
       "      <td>0.0</td>\n",
       "      <td>0.0</td>\n",
       "      <td>162.0</td>\n",
       "      <td>2.5</td>\n",
       "      <td>1055.0</td>\n",
       "      <td>676.0</td>\n",
       "      <td>28</td>\n",
       "      <td>61.89</td>\n",
       "    </tr>\n",
       "    <tr>\n",
       "      <th>2</th>\n",
       "      <td>332.5</td>\n",
       "      <td>142.5</td>\n",
       "      <td>0.0</td>\n",
       "      <td>228.0</td>\n",
       "      <td>0.0</td>\n",
       "      <td>932.0</td>\n",
       "      <td>594.0</td>\n",
       "      <td>270</td>\n",
       "      <td>40.27</td>\n",
       "    </tr>\n",
       "    <tr>\n",
       "      <th>3</th>\n",
       "      <td>332.5</td>\n",
       "      <td>142.5</td>\n",
       "      <td>0.0</td>\n",
       "      <td>228.0</td>\n",
       "      <td>0.0</td>\n",
       "      <td>932.0</td>\n",
       "      <td>594.0</td>\n",
       "      <td>365</td>\n",
       "      <td>41.05</td>\n",
       "    </tr>\n",
       "    <tr>\n",
       "      <th>4</th>\n",
       "      <td>198.6</td>\n",
       "      <td>132.4</td>\n",
       "      <td>0.0</td>\n",
       "      <td>192.0</td>\n",
       "      <td>0.0</td>\n",
       "      <td>978.4</td>\n",
       "      <td>825.5</td>\n",
       "      <td>360</td>\n",
       "      <td>44.30</td>\n",
       "    </tr>\n",
       "  </tbody>\n",
       "</table>\n",
       "</div>"
      ],
      "text/plain": [
       "   Cement  Blast Furnace Slag  Fly Ash  Water  Superplasticizer  \\\n",
       "0   540.0                 0.0      0.0  162.0               2.5   \n",
       "1   540.0                 0.0      0.0  162.0               2.5   \n",
       "2   332.5               142.5      0.0  228.0               0.0   \n",
       "3   332.5               142.5      0.0  228.0               0.0   \n",
       "4   198.6               132.4      0.0  192.0               0.0   \n",
       "\n",
       "   Coarse Aggregate  Fine Aggregate  Age  Strength  \n",
       "0            1040.0           676.0   28     79.99  \n",
       "1            1055.0           676.0   28     61.89  \n",
       "2             932.0           594.0  270     40.27  \n",
       "3             932.0           594.0  365     41.05  \n",
       "4             978.4           825.5  360     44.30  "
      ]
     },
     "execution_count": 3,
     "metadata": {},
     "output_type": "execute_result"
    }
   ],
   "source": [
    "df = pd.read_csv('https://s3-api.us-geo.objectstorage.softlayer.net/cf-courses-data/CognitiveClass/DL0101EN/labs/data/concrete_data.csv')\n",
    "df.head()"
   ]
  },
  {
   "cell_type": "code",
   "execution_count": 4,
   "id": "6326aa0a",
   "metadata": {},
   "outputs": [
    {
     "data": {
      "text/plain": [
       "8"
      ]
     },
     "execution_count": 4,
     "metadata": {},
     "output_type": "execute_result"
    }
   ],
   "source": [
    "# create the feature and target matrices\n",
    "\n",
    "x = df.drop(['Strength'],axis=1) # all columns of 'df' except 'Strength'\n",
    "y = df.Strength\n",
    "num_inputs = len(x.columns)\n",
    "num_inputs"
   ]
  },
  {
   "cell_type": "markdown",
   "id": "362ad3c6",
   "metadata": {},
   "source": [
    "#### A1. Randomly split the data into a training and test sets by holding 30% of the data for testing. You can use the train_test_split helper function from Scikit-learn."
   ]
  },
  {
   "cell_type": "code",
   "execution_count": 5,
   "id": "6aab7cab",
   "metadata": {},
   "outputs": [
    {
     "name": "stdout",
     "output_type": "stream",
     "text": [
      "(721, 8) (721,) (309, 8) (309,)\n"
     ]
    }
   ],
   "source": [
    "xtrain, xtest, ytrain, ytest = train_test_split(x, y, test_size=0.3)\n",
    "\n",
    "print(xtrain.shape, ytrain.shape, xtest.shape, ytest.shape)"
   ]
  },
  {
   "cell_type": "markdown",
   "id": "1a986ce9",
   "metadata": {},
   "source": [
    "#### A2. Train the model on the training data using 50 epochs."
   ]
  },
  {
   "cell_type": "code",
   "execution_count": 6,
   "id": "2fe90772",
   "metadata": {},
   "outputs": [
    {
     "data": {
      "image/png": "[encoded data removed]",
      "text/plain": [
       "<Figure size 432x288 with 1 Axes>"
      ]
     },
     "metadata": {
      "needs_background": "light"
     },
     "output_type": "display_data"
    }
   ],
   "source": [
    "# model defined in step A0\n",
    "model = regression_model()\n",
    "\n",
    "# train model\n",
    "history = model.fit(xtrain, ytrain, epochs=50, verbose=0)\n",
    "\n",
    "# plot the loss function\n",
    "plt.plot(history.history['loss'])\n",
    "plt.title('Training error vs epochs')\n",
    "plt.show()"
   ]
  },
  {
   "cell_type": "markdown",
   "id": "1731b98d",
   "metadata": {},
   "source": [
    "#### A3. Evaluate the model on the test data and compute the mean squared error between the predicted concrete strength and the actual concrete strength. You can use the mean_squared_error function from Scikit-learn."
   ]
  },
  {
   "cell_type": "code",
   "execution_count": 7,
   "id": "85d7d2ef",
   "metadata": {},
   "outputs": [
    {
     "name": "stdout",
     "output_type": "stream",
     "text": [
      "Validation error (using keras)  : 216.38999938964844\n",
      "Validation error (using sklearn): 216.3900296067976\n"
     ]
    }
   ],
   "source": [
    "# Method 1 (using keras)\n",
    "mse = model.evaluate(xtest, ytest, verbose=0)\n",
    "print('Validation error (using keras)  :', mse)\n",
    "\n",
    "# Method 2 (using keras + sklearn)\n",
    "ypred = model.predict(xtest)\n",
    "mse = mean_squared_error(ypred, ytest)\n",
    "print('Validation error (using sklearn):', mse)"
   ]
  },
  {
   "cell_type": "markdown",
   "id": "cc029c69",
   "metadata": {},
   "source": [
    "#### A4. Repeat steps 1 - 3, 50 times, i.e., create a list of 50 mean squared errors."
   ]
  },
  {
   "cell_type": "code",
   "execution_count": 8,
   "id": "2dd95a31",
   "metadata": {},
   "outputs": [
    {
     "name": "stdout",
     "output_type": "stream",
     "text": [
      "**************************************************"
     ]
    }
   ],
   "source": [
    "# array to store values\n",
    "MSE=np.zeros(50)\n",
    "\n",
    "for i in range(50):\n",
    "    \n",
    "    # progress bar\n",
    "    print('*',end='')\n",
    "    \n",
    "    # step 1: train-test-split\n",
    "    xtrain, xtest, ytrain, ytest = train_test_split(x, y, test_size=0.3)\n",
    "    \n",
    "    # step 2: training\n",
    "    history = model.fit(xtrain, ytrain, epochs=50, verbose=0)\n",
    "    \n",
    "    # step 3: evaluation\n",
    "    ypred = model.predict(xtest)\n",
    "    mse = mean_squared_error(ypred, ytest)\n",
    "    MSE[i] = mse\n",
    "\n",
    "# step 4: list of MSE's\n",
    "MSE_A = MSE.copy()\n"
   ]
  },
  {
   "cell_type": "markdown",
   "id": "226963c8",
   "metadata": {},
   "source": [
    "#### A5. Report the mean and the standard deviation of the mean squared errors."
   ]
  },
  {
   "cell_type": "code",
   "execution_count": 9,
   "id": "147ae708",
   "metadata": {},
   "outputs": [
    {
     "data": {
      "image/png": "[encoded data removed]",
      "text/plain": [
       "<Figure size 432x288 with 1 Axes>"
      ]
     },
     "metadata": {
      "needs_background": "light"
     },
     "output_type": "display_data"
    },
    {
     "name": "stdout",
     "output_type": "stream",
     "text": [
      "Mean validation error  : 114.03468110926741\n",
      "Std of validation error: 10.806492159978085\n"
     ]
    }
   ],
   "source": [
    "def plot_error_log(MSE):\n",
    "    \n",
    "    plt.plot(MSE, '.-')\n",
    "    plt.title('Validation error vs iterations')\n",
    "    plt.show()\n",
    "    \n",
    "    print('Mean validation error  :', MSE.mean())\n",
    "    print('Std of validation error:', MSE.std())\n",
    "    \n",
    "# step 5: mean and std of MSE's\n",
    "plot_error_log(MSE_A)"
   ]
  },
  {
   "cell_type": "markdown",
   "id": "faf2abe3",
   "metadata": {},
   "source": [
    "# Part B"
   ]
  },
  {
   "cell_type": "markdown",
   "id": "22d8e174",
   "metadata": {},
   "source": [
    "#### Normalize the data (5 marks) \n",
    "\n",
    "#### Repeat Part A but use a normalized version of the data. Recall that one way to normalize the data is by subtracting the mean from the individual predictors and dividing by the standard deviation.\n",
    "\n",
    "#### How does the mean of the mean squared errors compare to that from Step A?\n"
   ]
  },
  {
   "cell_type": "code",
   "execution_count": 10,
   "id": "596842f4",
   "metadata": {},
   "outputs": [],
   "source": [
    "# Normalizing the data \n",
    "x_norm = (x-x.mean())/x.std()"
   ]
  },
  {
   "cell_type": "code",
   "execution_count": 11,
   "id": "cfe16383",
   "metadata": {},
   "outputs": [
    {
     "name": "stdout",
     "output_type": "stream",
     "text": [
      "***************************************************"
     ]
    },
    {
     "data": {
      "image/png": "[encoded data removed]",
      "text/plain": [
       "<Figure size 432x288 with 1 Axes>"
      ]
     },
     "metadata": {
      "needs_background": "light"
     },
     "output_type": "display_data"
    },
    {
     "name": "stdout",
     "output_type": "stream",
     "text": [
      "Mean validation error  : 41.60615331123248\n",
      "Std of validation error: 19.993181471400632\n"
     ]
    }
   ],
   "source": [
    "# using the model defined in part A\n",
    "model = regression_model()\n",
    "\n",
    "# NOTE ON NUMBER OF ITERATIONS: \n",
    "# In part A we performed 1+50 iterations of 50 epochs each. \n",
    "# To keep the comparison fair, I will perform 51 iterations, \n",
    "# and drop the 1st iteration when I calculate mean and std of errors\n",
    "\n",
    "MSE=np.zeros(51)\n",
    "\n",
    "for i in range (51):\n",
    "    \n",
    "    # progress bar\n",
    "    print('*',end='')\n",
    "    \n",
    "    # step 1: splitting (using normalized data)\n",
    "    xtrain, xtest, ytrain, ytest = train_test_split(x_norm, y, test_size=0.3)\n",
    "    \n",
    "    # step 2: training\n",
    "    model.fit(xtrain, ytrain, epochs=50, verbose=0)\n",
    "    \n",
    "    # step 3: evaluation\n",
    "    ypred = model.predict(xtest)\n",
    "    mse = mean_squared_error(ypred, ytest)\n",
    "    MSE[i] = mse\n",
    "    \n",
    "# step 4: list of mean squared errors\n",
    "MSE_B = MSE.copy()\n",
    "\n",
    "# step 5: mean and std of MSE's (drop the 1st iteration)\n",
    "plot_error_log(MSE_B[1:])"
   ]
  },
  {
   "cell_type": "code",
   "execution_count": 21,
   "id": "eb4e5f72",
   "metadata": {},
   "outputs": [
    {
     "data": {
      "image/png": "[encoded data removed]",
      "text/plain": [
       "<Figure size 432x288 with 1 Axes>"
      ]
     },
     "metadata": {
      "needs_background": "light"
     },
     "output_type": "display_data"
    }
   ],
   "source": [
    "# step 6: Comparison of mean MSE\n",
    "\n",
    "def plot_comparison():\n",
    "    plt.xticks([1,2,3,4],['A','B','C','D'])\n",
    "    plt.title('Comparision of mean and std of validation error')\n",
    "    plt.xlim([0,5])\n",
    "    plt.grid(axis='y')\n",
    "    plt.errorbar(x=[1],y=np.mean(MSE_A[1:]), yerr=np.std(MSE_A[1:]), marker='o')\n",
    "    plt.errorbar(x=[2],y=np.mean(MSE_B[1:]), yerr=np.std(MSE_B[1:]), marker='o')\n",
    "    \n",
    "plot_comparison()\n",
    "plt.show()"
   ]
  },
  {
   "cell_type": "raw",
   "id": "8679a129",
   "metadata": {},
   "source": [
    "Discussion: The mean validation error in B is much less than A (about 36% of A).\n",
    "This tells us that normalizing the data greatly increases the efficiency of optimization. "
   ]
  },
  {
   "cell_type": "markdown",
   "id": "d3d628a3",
   "metadata": {},
   "source": [
    "# Part C"
   ]
  },
  {
   "cell_type": "markdown",
   "id": "7bc82287",
   "metadata": {},
   "source": [
    "#### Increase the number of epochs (5 marks)\n",
    "\n",
    "#### Repeat Part B but use 100 epochs this time for training.\n",
    "\n",
    "#### How does the mean of the mean squared errors compare to that from Step B?"
   ]
  },
  {
   "cell_type": "code",
   "execution_count": 13,
   "id": "e18bae99",
   "metadata": {},
   "outputs": [
    {
     "name": "stdout",
     "output_type": "stream",
     "text": [
      "***************************************************"
     ]
    },
    {
     "data": {
      "image/png": "[encoded data removed]",
      "text/plain": [
       "<Figure size 432x288 with 1 Axes>"
      ]
     },
     "metadata": {
      "needs_background": "light"
     },
     "output_type": "display_data"
    },
    {
     "name": "stdout",
     "output_type": "stream",
     "text": [
      "Mean validation error  : 33.13566401526\n",
      "Std of validation error: 10.122132798895253\n"
     ]
    }
   ],
   "source": [
    "# using the model defined in part A\n",
    "model = regression_model()\n",
    "\n",
    "# NOTE ON NUMBER OF ITERATIONS: \n",
    "# In part A we performed 1+50 iterations of 50 epochs each. \n",
    "# To keep the comparison fair, I will perform 51 iterations, \n",
    "# and drop the 1st iteration when I calculate mean and std of errors\n",
    "\n",
    "MSE=np.zeros(51)\n",
    "\n",
    "for i in range (51):\n",
    "    \n",
    "    # progress bar\n",
    "    print('*',end='')\n",
    "    \n",
    "    # step 1: splitting (using normalized data)\n",
    "    xtrain, xtest, ytrain, ytest = train_test_split(x_norm, y, test_size=0.3)\n",
    "    \n",
    "    # step 2: training (using 100 epochs)\n",
    "    model.fit(xtrain, ytrain, epochs=100, verbose=0)\n",
    "    \n",
    "    # step 3: evaluation\n",
    "    ypred = model.predict(xtest)\n",
    "    mse = mean_squared_error(ypred, ytest)\n",
    "    MSE[i] = mse\n",
    "\n",
    "# step 4: list of MSE's\n",
    "MSE_C = MSE.copy()\n",
    "\n",
    "#5: step mean and std of MSE's (drop the 1st iteration)\n",
    "plot_error_log(MSE_C[1:])"
   ]
  },
  {
   "cell_type": "code",
   "execution_count": 22,
   "id": "a85bb9b3",
   "metadata": {},
   "outputs": [
    {
     "data": {
      "image/png": "[encoded data removed]",
      "text/plain": [
       "<Figure size 432x288 with 1 Axes>"
      ]
     },
     "metadata": {
      "needs_background": "light"
     },
     "output_type": "display_data"
    }
   ],
   "source": [
    "# step 6: Comparison of mean MSE for each model\n",
    "\n",
    "plot_comparison()\n",
    "plt.errorbar(x=[3],y=np.mean(MSE_C[1:]), yerr=np.std(MSE_C[1:]), marker='o')\n",
    "plt.show()"
   ]
  },
  {
   "cell_type": "raw",
   "id": "7d148301",
   "metadata": {},
   "source": [
    "Discussion: The mean validation error in C is less than B (about 80% of B).\n",
    "This tells us that increasing the number of epochs brings us closer to the optimal weights.  "
   ]
  },
  {
   "cell_type": "markdown",
   "id": "2abc5f51",
   "metadata": {},
   "source": [
    "# Part D"
   ]
  },
  {
   "cell_type": "markdown",
   "id": "ed78cdce",
   "metadata": {},
   "source": [
    "#### Increase the number of hidden layers (5 marks)\n",
    "\n",
    "#### Repeat part B but use a neural network with the following instead:\n",
    "\n",
    "#### Three hidden layers, each of 10 nodes and ReLU activation function.\n",
    "\n",
    "#### How does the mean of the mean squared errors compare to that from Step B?"
   ]
  },
  {
   "cell_type": "code",
   "execution_count": 15,
   "id": "67fe053b",
   "metadata": {},
   "outputs": [],
   "source": [
    "# Building the model\n",
    "\n",
    "def regression_model2():\n",
    "    model = Sequential()\n",
    "    \n",
    "    model.add(Input(shape=(num_inputs,)))     # input layer\n",
    "    model.add(Dense(10, activation='relu'))   # hidden layer 1\n",
    "    model.add(Dense(10, activation='relu'))   # hidden layer 2\n",
    "    model.add(Dense(10, activation='relu'))   # hidden layer 3\n",
    "    model.add(Dense(1))                       # output layer\n",
    "    \n",
    "    model.compile(optimizer='adam', loss='mean_squared_error')\n",
    "    return model\n",
    "    \n",
    "model = regression_model2()\n"
   ]
  },
  {
   "cell_type": "code",
   "execution_count": 16,
   "id": "5be781d1",
   "metadata": {},
   "outputs": [
    {
     "name": "stdout",
     "output_type": "stream",
     "text": [
      "***************************************************"
     ]
    },
    {
     "data": {
      "image/png": "[encoded data removed]",
      "text/plain": [
       "<Figure size 432x288 with 1 Axes>"
      ]
     },
     "metadata": {
      "needs_background": "light"
     },
     "output_type": "display_data"
    },
    {
     "name": "stdout",
     "output_type": "stream",
     "text": [
      "Mean validation error  : 25.015472057329795\n",
      "Std of validation error: 6.8142390590733335\n"
     ]
    }
   ],
   "source": [
    "# NOTE ON NUMBER OF ITERATIONS: \n",
    "# In part A we performed 1+50 iterations of 50 epochs each. \n",
    "# To keep the comparison fair, I will perform 51 iterations, \n",
    "# and drop the 1st iteration when I calculate mean and std of errors\n",
    "\n",
    "MSE=np.zeros(51)\n",
    "\n",
    "for i in range (51):\n",
    "    \n",
    "    # progess bar\n",
    "    print('*',end='')\n",
    "    \n",
    "    # step 1: splitting (using normalized data)\n",
    "    xtrain, xtest, ytrain, ytest = train_test_split(x_norm, y, test_size=0.3)\n",
    "    \n",
    "    # step 2: training\n",
    "    model.fit(xtrain, ytrain, epochs=50, verbose=0)\n",
    "    \n",
    "    # step 3: evaluation\n",
    "    ypred = model.predict(xtest)\n",
    "    mse = mean_squared_error(ypred, ytest)\n",
    "    MSE[i] = mse\n",
    "    \n",
    "# step 4: list of MSE's\n",
    "MSE_D = MSE.copy()\n",
    "\n",
    "#5: step mean and std of MSE's (drop the 1st iteration)\n",
    "plot_error_log(MSE_D[1:])"
   ]
  },
  {
   "cell_type": "code",
   "execution_count": 23,
   "id": "07cefd9b",
   "metadata": {},
   "outputs": [
    {
     "data": {
      "image/png": "[encoded data removed]",
      "text/plain": [
       "<Figure size 432x288 with 1 Axes>"
      ]
     },
     "metadata": {
      "needs_background": "light"
     },
     "output_type": "display_data"
    }
   ],
   "source": [
    "# step 6: Comparison of mean MSE for each model\n",
    "\n",
    "plot_comparison()\n",
    "plt.errorbar(x=[3],y=np.mean(MSE_C[1:]), yerr=np.std(MSE_C[1:]), marker='o')\n",
    "plt.errorbar(x=[4],y=np.mean(MSE_D[1:]), yerr=np.std(MSE_D[1:]), marker='o')\n",
    "plt.show()"
   ]
  },
  {
   "cell_type": "raw",
   "id": "9b9f6089",
   "metadata": {},
   "source": [
    "Discussion: The mean validation error in D is much less than B (about 61% of B).\n",
    "This tells us that increasing the number of hidden layers is much more effecient than increasing the number of epochs. "
   ]
  },
  {
   "cell_type": "code",
   "execution_count": null,
   "id": "d1da81d4",
   "metadata": {},
   "outputs": [],
   "source": []
  }
 ],
 "metadata": {
  "kernelspec": {
   "display_name": "Python 3",
   "language": "python",
   "name": "python3"
  },
  "language_info": {
   "codemirror_mode": {
    "name": "ipython",
    "version": 3
   },
   "file_extension": ".py",
   "mimetype": "text/x-python",
   "name": "python",
   "nbconvert_exporter": "python",
   "pygments_lexer": "ipython3",
   "version": "3.7.9"
  }
 },
 "nbformat": 4,
 "nbformat_minor": 5
}
